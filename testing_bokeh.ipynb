{
 "cells": [
  {
   "cell_type": "code",
   "execution_count": 2,
   "metadata": {},
   "outputs": [
    {
     "name": "stderr",
     "output_type": "stream",
     "text": [
      "C:\\Users\\giorg\\AppData\\Local\\Temp\\ipykernel_13236\\2033915871.py:20: FutureWarning: weekofyear and week have been deprecated, please use DatetimeIndex.isocalendar().week instead, which returns a Series. To exactly reproduce the behavior of week and weekofyear and return an Index, you may call pd.Int64Index(idx.isocalendar().week)\n",
      "  sales[\"week\"]=pd.DatetimeIndex(sales[\"invoice_date\"]).week\n"
     ]
    }
   ],
   "source": [
    "import pandas as pd\n",
    "import matplotlib.pyplot as plt\n",
    "import seaborn as sns\n",
    "from mlxtend.frequent_patterns import apriori, association_rules\n",
    "import networkx as nx\n",
    "from bokeh.embed import components\n",
    "from bokeh.models import Circle, MultiLine, HoverTool\n",
    "from bokeh.plotting import figure, from_networkx,show \n",
    "from bokeh.plotting import output_file, ColumnDataSource\n",
    "import warnings\n",
    "warnings.filterwarnings(\"ignore\", category=DeprecationWarning)\n",
    "pd.options.mode.chained_assignment = None\n",
    "pd.set_option(\"display.precision\", 2)\n",
    "products=pd.read_csv(\"products.csv\")\n",
    "sales=pd.read_csv(\"sales.csv\")\n",
    "products=products.drop(\"Unnamed: 0\",axis=1)\n",
    "sales=sales.drop(\"Unnamed: 0\",axis=1)\n",
    "temp=sales[[\"invoice_date\",\"total_sale\"]]\n",
    "sales[\"invoice_date\"]=pd.to_datetime(sales[\"invoice_date\"])\n",
    "sales[\"week\"]=pd.DatetimeIndex(sales[\"invoice_date\"]).week\n",
    "sales[\"month\"]=pd.DatetimeIndex(sales[\"invoice_date\"]).month\n",
    "sales[\"year\"]=pd.DatetimeIndex(sales[\"invoice_date\"]).year\n",
    "sales[\"weekday\"]=pd.DatetimeIndex(sales[\"invoice_date\"]).day_of_week"
   ]
  },
  {
   "cell_type": "code",
   "execution_count": 9,
   "metadata": {},
   "outputs": [],
   "source": []
  }
 ],
 "metadata": {
  "kernelspec": {
   "display_name": "Python 3.9.7 ('base')",
   "language": "python",
   "name": "python3"
  },
  "language_info": {
   "codemirror_mode": {
    "name": "ipython",
    "version": 3
   },
   "file_extension": ".py",
   "mimetype": "text/x-python",
   "name": "python",
   "nbconvert_exporter": "python",
   "pygments_lexer": "ipython3",
   "version": "3.9.7"
  },
  "orig_nbformat": 4,
  "vscode": {
   "interpreter": {
    "hash": "34ab73eb2a201c4b750598ec4bd41f14c725bb809bc0c8207569acb80dee3ff5"
   }
  }
 },
 "nbformat": 4,
 "nbformat_minor": 2
}
