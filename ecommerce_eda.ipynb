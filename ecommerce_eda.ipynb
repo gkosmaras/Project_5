{
 "cells": [
  {
   "cell_type": "code",
   "execution_count": null,
   "metadata": {},
   "outputs": [],
   "source": [
    "import pandas as pd\n",
    "import matplotlib.pyplot as plt\n",
    "import seaborn as sns\n",
    "pd.set_option(\"display.precision\", 2)\n",
    "products=pd.read_csv(\"products.csv\")\n",
    "sales=pd.read_csv(\"sales.csv\")\n",
    "products=products.drop(\"Unnamed: 0\",axis=1)\n",
    "sales=sales.drop(\"Unnamed: 0\",axis=1)\n",
    "temp=sales[[\"invoice_date\",\"total_sale\"]]\n",
    "sales[\"invoice_date\"]=pd.to_datetime(sales[\"invoice_date\"])\n",
    "sales[\"week\"]=pd.DatetimeIndex(sales[\"invoice_date\"]).week\n",
    "sales[\"month\"]=pd.DatetimeIndex(sales[\"invoice_date\"]).month\n",
    "sales[\"year\"]=pd.DatetimeIndex(sales[\"invoice_date\"]).year\n",
    "sales[\"weekday\"]=pd.DatetimeIndex(sales[\"invoice_date\"]).day_of_week"
   ]
  },
  {
   "cell_type": "code",
   "execution_count": null,
   "metadata": {},
   "outputs": [],
   "source": [
    "# Get a list of products that are above the 75th pctl in terms of\n",
    "# volume sold\n",
    "temp=sales.groupby(by=\"ASIN\").sum().reset_index()\n",
    "sales100=temp.loc[temp[\"total_sale\"]>6.61e+04]\n",
    "sales100=sales100.drop([\"InvoiceNo\", \"Quantity\", \"price\", \n",
    "        \"invoice_time\", \"CustomerID\"], axis=1)\n",
    "# Get a list of products that are above the 75th pctl in terms of \n",
    "# total revenue\n",
    "temp=sales.groupby(by=\"ASIN\").sum().reset_index()\n",
    "quantity100=temp.loc[temp[\"Quantity\"]>1336]\n",
    "quantity100=quantity100.drop([\"InvoiceNo\", \"price\", \"total_sale\", \n",
    "                \"invoice_time\", \"CustomerID\"],\n",
    "                axis=1)\n",
    "# Find the common items between the two lists\n",
    "top100=pd.merge(sales100,quantity100,on=\"ASIN\")"
   ]
  },
  {
   "cell_type": "code",
   "execution_count": null,
   "metadata": {},
   "outputs": [],
   "source": [
    "def churn(x,i):\n",
    "    j=i+1\n",
    "    a=((x[\"Customers\"].loc[(x[\"month\"]==j) & x[\"month_end\"]]).values)\n",
    "    b=((x[\"Customers\"].loc[(x[\"month\"]==j) & x[\"month_beg\"]]).values)\n",
    "    c=(a-b)/a\n",
    "    try:\n",
    "        return(round(c.item()*100,2))\n",
    "    except ValueError:\n",
    "        return(0)"
   ]
  },
  {
   "cell_type": "code",
   "execution_count": null,
   "metadata": {},
   "outputs": [],
   "source": [
    "# Let's calculate the customer's attrition on a monthly basis for 2019\n",
    "attrition=pd.DataFrame({\"month\":range(1,13)})\n",
    "temp=sales.copy(deep=True)\n",
    "temp.loc[:,(\"Customers\")]=1\n",
    "temp=temp.loc[sales[\"year\"]==2019]\n",
    "temp=temp.groupby(\"invoice_date\").sum()\n",
    "temp.reset_index(inplace=True)\n",
    "a=list(temp.columns)\n",
    "a=[i for i in a if i not in (\"invoice_date\",\"Customers\")]\n",
    "temp.drop(a, axis=1, inplace=True)\n",
    "temp[\"month\"]=pd.DatetimeIndex(temp[\"invoice_date\"]).month\n",
    "temp[\"month_end\"]=pd.DatetimeIndex(temp[\"invoice_date\"]).is_month_end\n",
    "temp[\"month_beg\"]=pd.DatetimeIndex(temp[\"invoice_date\"]).is_month_start\n",
    "\n",
    "# Keep only dates that are on month's end / beginning\n",
    "temp=temp.loc[(temp[\"month_end\"]) | (temp[\"month_beg\"])]\n",
    "\n",
    "#Keep only months that we know the stats for both the start and end date\n",
    "temp=temp.loc[temp.duplicated(subset=\"month\",keep=False),:]\n",
    "temp.reset_index(inplace=True)\n",
    "for i in range(len(attrition)):\n",
    "    attrition.loc[i,\"change\"]=churn(temp,i)"
   ]
  },
  {
   "cell_type": "code",
   "execution_count": null,
   "metadata": {},
   "outputs": [],
   "source": [
    "fig,ax=plt.subplots(figsize=(12,4))\n",
    "sns.lineplot(data=attrition, x=\"month\", y=\"change\", color=\"crimson\")\n",
    "plt.axhline(0)\n",
    "plt.title(\"Customer attrition rate for each month\")\n",
    "plt.xlabel(\"Month of the year\")\n",
    "plt.ylabel(\"Change in %\")"
   ]
  },
  {
   "cell_type": "code",
   "execution_count": null,
   "metadata": {},
   "outputs": [],
   "source": [
    "# Find the revenue per customer for each country \n",
    "temp=sales.copy(deep=True)\n",
    "temp[\"ca\"]=1\n",
    "temp=temp.groupby(by=\"Country\").sum()\n",
    "a=list(temp.columns)\n",
    "a=[i for i in a if i not in (\"total_sale\",\"ca\")]\n",
    "temp.drop(a,axis=1,inplace=True)\n",
    "temp[\"Revenue per customer\"]=temp[\"total_sale\"]/temp[\"ca\"]\n",
    "temp.rename({\"total_sale\":\"Total Sales\", \"ca\":\"Customers\"},\n",
    "            axis=1, inplace=True)\n",
    "temp.sort_values(by=\"Revenue per customer\",ascending=False)"
   ]
  },
  {
   "cell_type": "code",
   "execution_count": null,
   "metadata": {},
   "outputs": [],
   "source": [
    "# Calculate average order size and revenue for each country\n",
    "temp=sales.copy(deep=True)\n",
    "temp[\"Items\"]=1\n",
    "temp=temp.groupby(by=[\"Country\",\"InvoiceNo\"]).sum()\n",
    "temp.reset_index(inplace=True)\n",
    "temp.rename({\"weekday\":\"no_inv\"},axis=1,inplace=True)\n",
    "temp[\"no_inv\"]=1\n",
    "temp=temp.groupby(by=\"Country\").sum()\n",
    "temp[\"Items per order\"]=temp[\"Items\"]/temp[\"no_inv\"]\n",
    "temp[\"Revenue per order\"]=temp[\"total_sale\"]/temp[\"no_inv\"]\n",
    "temp[\"Revenue per item\"]=temp[\"Revenue per order\"]/temp[\"Items\"]\n",
    "a=list(temp.columns)\n",
    "a=[i for i in a if i not in (\"Items per order\", \n",
    "    \"Revenue per order\", \"Revenue per item\")]\n",
    "temp.drop(a,axis=1,inplace=True)\n",
    "temp.sort_values(by=\"Revenue per order\", ascending=False)"
   ]
  },
  {
   "cell_type": "code",
   "execution_count": null,
   "metadata": {},
   "outputs": [],
   "source": [
    "temp=sales.groupby(by=[\"Country\",\"InvoiceNo\"]).sum()\n",
    "temp.reset_index(inplace=True)\n",
    "temp"
   ]
  },
  {
   "cell_type": "code",
   "execution_count": null,
   "metadata": {},
   "outputs": [],
   "source": [
    "fig,ax=plt.subplots(figsize=(5,5),facecolor=\"snow\")\n",
    "temp=products[\"product_type\"].value_counts()\n",
    "label=[i for i in temp.index]\n",
    "label=[i.capitalize() for i in label]\n",
    "temp.plot.pie(\n",
    "        labels=label, autopct=\"%1.0f%%\")\n",
    "ax.set_ylabel(\"\")"
   ]
  },
  {
   "cell_type": "code",
   "execution_count": null,
   "metadata": {},
   "outputs": [],
   "source": [
    "# Let's plot the total sales for each day of the week\n",
    "# Interestingly enough, there are no orders on Tuesdays. \n",
    "# That can not be correct, so we assume it's due to date corruption \n",
    "temp=sales.groupby(by=\"weekday\").sum()\n",
    "a=list(temp.columns)\n",
    "a=[i for i in a if i not in (\"total_sale\")]\n",
    "temp.drop(a, axis=1, inplace=True)\n",
    "temp.loc[1]=0\n",
    "temp.reset_index(inplace=True)\n",
    "\n",
    "fig,ax=plt.subplots(figsize=(12,5))\n",
    "sns.lineplot(data=temp, x=\"weekday\", y=\"total_sale\",\n",
    "            color=\"crimson\")\n",
    "plt.xticks([0, 1, 2, 3, 4, 5, 6], [\"Monday\", \"Tuesday\", \"Wednesday\",\n",
    "            \"Thursday\", \"Friday\", \"Saturday\", \"Sunday\"])\n",
    "plt.title(\"Sales distribution on the days of the week\")\n",
    "plt.ylabel(\"Sales in 100s of millions\")\n",
    "plt.xlabel(\"Day of the week\")"
   ]
  },
  {
   "cell_type": "code",
   "execution_count": null,
   "metadata": {},
   "outputs": [],
   "source": [
    "# Do it again but with better grouping and rolling averages\n",
    "fig,ax=plt.subplots(2,1,figsize=(17,8.5),sharex=True)\n",
    "temp=pd.merge(sales,products,on=\"ASIN\")\n",
    "temp=temp.groupby(by=\"invoice_date\").sum()\n",
    "temp.reset_index(inplace=True)\n",
    "temp[\"avg\"]=(temp[\"total_sale\"].rolling(7).sum())\n",
    "sns.lineplot(ax=ax[0],x=temp[\"invoice_date\"], y=temp[\"avg\"],\n",
    "        color=\"crimson\")\n",
    "temp[\"avg\"]=(temp[\"total_sale\"].rolling(30).sum())        \n",
    "sns.lineplot(ax=ax[1],x=temp[\"invoice_date\"], y=temp[\"avg\"],\n",
    "        color=\"crimson\")        \n",
    "ax[0].set(title=\"Weekly average revenue\", xlabel=\"\", \n",
    "        ylabel=\"Revenue in 10s of millions\")\n",
    "ax[1].set(title=\"Monthly average revenue\", xlabel=\"Date\", \n",
    "        ylabel=\"Revenue in 10s of millions\")"
   ]
  },
  {
   "cell_type": "code",
   "execution_count": null,
   "metadata": {},
   "outputs": [],
   "source": [
    "# Daily sales throughout the year, with Black Friday denoted by vertical line\n",
    "fig,ax=plt.subplots(figsize=(17,8.5))\n",
    "temp=sales\n",
    "temp=temp.groupby(by=\"invoice_date\").sum()\n",
    "temp.reset_index(inplace=True)\n",
    "sns.lineplot(x=temp[\"invoice_date\"], y=temp[\"total_sale\"],\n",
    "        color=\"crimson\")\n",
    "lst=temp[\"invoice_date\"].loc[temp[\"invoice_date\"]==\"2019-11-28\"]\n",
    "plt.axvline(lst)\n",
    "plt.title(\"Daily Sales\")\n",
    "plt.ylabel(\"Sales in millions\")\n",
    "plt.xlabel(\"Date\")"
   ]
  },
  {
   "cell_type": "code",
   "execution_count": null,
   "metadata": {},
   "outputs": [],
   "source": [
    "fig,ax=plt.subplots(figsize=(12,5))\n",
    "temp=pd.merge(sales,products,on=\"ASIN\")\n",
    "temp=temp.groupby(by=[\"week\",\"product_type\"]).sum()\n",
    "temp.reset_index(inplace=True)\n",
    "sns.lineplot(x=temp[\"week\"], y=temp[\"Quantity\"],\n",
    "        hue=temp[\"product_type\"],\n",
    "        color=\"darkslategrey\")\n",
    "plt.title(\"Sales breakdown based on product type\")\n",
    "plt.xlabel(\"Week of the year\")\n"
   ]
  },
  {
   "cell_type": "code",
   "execution_count": null,
   "metadata": {},
   "outputs": [],
   "source": [
    "from statsmodels.tsa.seasonal import seasonal_decompose\n",
    "temp=sales.loc[sales[\"year\"]==2019]\n",
    "temp=temp[[\"month\",\"total_sale\"]]\n",
    "temp.set_index(\"month\", inplace=True)\n",
    "temp.index=pd.to_datetime(temp.index)\n",
    "dec=seasonal_decompose(temp[\"total_sale\"], model=\"additive\",period=12)\n",
    "dec.trend.plot()"
   ]
  },
  {
   "cell_type": "code",
   "execution_count": null,
   "metadata": {},
   "outputs": [],
   "source": [
    "# Attempt at web scrapping for accurate ratings and up to date prices\n",
    "# WIP\n",
    "from bs4 import BeautifulSoup\n",
    "import requests\n",
    "site=\"https://www.amazon.de/dp/B00000JRRD\"\n",
    "head=({\"User-Agent\": \"Mozilla/5.0 (Windows NT 10.0; Win64; x64) AppleWebKit/537.36 (KHTML, like Gecko) Chrome/64.0.3282.140 Safari/537.36 Edge/18.17763\"})\n",
    "r=requests.get(url=site,headers=head)\n",
    "soup=BeautifulSoup(r.content, \"lxml\")\n",
    "title=soup.find(\"span\", attrs={\"class\":\"a-price-whole\"})"
   ]
  }
 ],
 "metadata": {
  "kernelspec": {
   "display_name": "Python 3.9.7 ('base')",
   "language": "python",
   "name": "python3"
  },
  "language_info": {
   "codemirror_mode": {
    "name": "ipython",
    "version": 3
   },
   "file_extension": ".py",
   "mimetype": "text/x-python",
   "name": "python",
   "nbconvert_exporter": "python",
   "pygments_lexer": "ipython3",
   "version": "3.9.7"
  },
  "orig_nbformat": 4,
  "vscode": {
   "interpreter": {
    "hash": "34ab73eb2a201c4b750598ec4bd41f14c725bb809bc0c8207569acb80dee3ff5"
   }
  }
 },
 "nbformat": 4,
 "nbformat_minor": 2
}
