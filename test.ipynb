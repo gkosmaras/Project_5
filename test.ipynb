{
 "cells": [
  {
   "cell_type": "code",
   "execution_count": null,
   "metadata": {},
   "outputs": [],
   "source": [
    "import sqlite3\n",
    "import pandas as pd\n",
    "import math\n",
    "products=pd.read_excel(\"sales_original.xlsx\",\n",
    "                        sheet_name=\"products\")\n",
    "stock=pd.read_excel(\"sales_original.xlsx\",\n",
    "                        sheet_name=\"stock\")\n",
    "assessment=pd.read_excel(\"sales_original.xlsx\",\n",
    "                        sheet_name=\"assessment\")\n",
    "invoices=pd.read_excel(\"sales_original.xlsx\",\n",
    "                        sheet_name=\"invoices\")\n",
    "customers=pd.read_excel(\"sales_original.xlsx\",\n",
    "                        sheet_name=\"customers\")                                                \n",
    "conn=sqlite3.connect(\"df.db\")\n",
    "c=conn.cursor()"
   ]
  },
  {
   "cell_type": "code",
   "execution_count": null,
   "metadata": {},
   "outputs": [],
   "source": [
    "products1=products.drop_duplicates(subset=\"ASIN\")\n",
    "products1=products1.dropna()\n",
    "products1=products1[products1[\"ASIN\"]!=\"Null\"]\n",
    "products1=products1.groupby([\"ASIN\",\"product_type\"]).sum()\n",
    "products1=products1.reset_index()\n",
    "stock1=stock.drop_duplicates(subset=\"ASIN\")\n",
    "stock1=stock1.dropna()\n",
    "stock1=stock1[stock1[\"ASIN\"]!=\"Null\"]\n",
    "assessment1=assessment.drop_duplicates(subset=\"ASIN\")\n",
    "assessment1=assessment1.dropna()\n",
    "assessment1=assessment1[assessment1[\"ASIN\"]!=\"Null\"]\n",
    "invoices1=invoices.drop_duplicates()\n",
    "invoices1=invoices1[invoices1[\"ASIN\"]!=\"Null\"]\n",
    "customers1=customers.drop_duplicates(subset=\"CustomerID\")\n",
    "customers1=customers1.dropna()\n",
    "customers1=customers1[customers1[\"CustomerID\"]!=\"Null\"]"
   ]
  },
  {
   "cell_type": "code",
   "execution_count": null,
   "metadata": {},
   "outputs": [],
   "source": [
    "products.nunique()"
   ]
  },
  {
   "cell_type": "code",
   "execution_count": null,
   "metadata": {},
   "outputs": [],
   "source": [
    "products1.info()"
   ]
  },
  {
   "cell_type": "code",
   "execution_count": null,
   "metadata": {},
   "outputs": [],
   "source": [
    "c.execute(\"\"\"CREATE TABLE IF NOT EXISTS products\n",
    "        (ASIN PRIMARY KEY,\n",
    "        title,\n",
    "        product_type)\n",
    "        \"\"\")\n",
    "products1.to_sql(\"products\", conn, if_exists=\"replace\", index=False)\n",
    "c.execute(\"\"\"CREATE TABLE IF NOT EXISTS stock\n",
    "        (StockCode,\n",
    "        ASIN PRIMARY KEY)\n",
    "        \"\"\")\n",
    "stock1.to_sql(\"stock\", conn, if_exists=\"replace\", index=False)\n",
    "c.execute(\"\"\"CREATE TABLE IF NOT EXISTS assessment\n",
    "        (rating,\n",
    "        review_count,\n",
    "        ASIN PRIMARY KEY)\n",
    "        \"\"\")\n",
    "assessment1.to_sql(\"assessment\", conn, if_exists=\"replace\", index=False)\n",
    "c.execute(\"\"\"CREATE TABLE IF NOT EXISTS invoices\n",
    "        (InvoiceNo,\n",
    "        ASIN PRIMARY KEY,\n",
    "        Quantity,\n",
    "        price,\n",
    "        total_sale,\n",
    "        invoice_date,\n",
    "        invoice_time,\n",
    "        CustomerID)\n",
    "        \"\"\")\n",
    "invoices1.to_sql(\"invoices\", conn, if_exists=\"replace\", index=False)\n",
    "c.execute(\"\"\"CREATE TABLE IF NOT EXISTS customers\n",
    "        (CustomerID\n",
    "        Country)\n",
    "        \"\"\")\n",
    "customers1.to_sql(\"customers\", conn, if_exists=\"replace\", index=True)"
   ]
  },
  {
   "cell_type": "code",
   "execution_count": null,
   "metadata": {},
   "outputs": [],
   "source": [
    "# Average ratings for each product type\n",
    "c.execute(\"\"\"SELECT p.product_type, ROUND(AVG(a.rating),2) \n",
    "        FROM products AS p\n",
    "        JOIN assessment AS a\n",
    "        ON a.ASIN=p.ASIN\n",
    "        GROUP BY p.product_type\n",
    "        ORDER BY AVG(a.rating) DESC\n",
    "        \"\"\").fetchall()"
   ]
  },
  {
   "cell_type": "code",
   "execution_count": null,
   "metadata": {},
   "outputs": [],
   "source": [
    "# 5 countries generating max revenue, excluding host\n",
    "c.execute(\"\"\"SELECT c.country, ROUND(SUM(i.total_sale),2)\n",
    "        FROM customers AS c\n",
    "        JOIN invoices AS i\n",
    "        ON i.CustomerID=c.CustomerID\n",
    "        WHERE c.country IS NOT \"Germany\"\n",
    "        GROUP BY c.country\n",
    "        ORDER BY SUM(i.total_sale) DESC\n",
    "        LIMIT 5\n",
    "        \"\"\").fetchall()"
   ]
  },
  {
   "cell_type": "code",
   "execution_count": null,
   "metadata": {},
   "outputs": [],
   "source": [
    "# 3 products in each segment with the highest rating\n",
    "c.execute(\"\"\"WITH cte AS (\n",
    "        SELECT * \n",
    "        FROM products AS p\n",
    "        JOIN assessment AS a\n",
    "        ON a.ASIN=p.ASIN)\n",
    "        SELECT DISTINCT title, rating, product_type\n",
    "        FROM\n",
    "        (\n",
    "            SELECT cte.*, ROW_NUMBER() OVER (\n",
    "                PARTITION BY product_type ORDER BY rating DESC) rnk\n",
    "            FROM cte)\n",
    "        WHERE rnk<=3\n",
    "        ORDER BY product_type, rating DESC\n",
    "        \"\"\").fetchall()"
   ]
  },
  {
   "cell_type": "code",
   "execution_count": null,
   "metadata": {},
   "outputs": [],
   "source": [
    "# Check if the above items are also the most reviewed\n",
    "# They are not \n",
    "c.execute(\"\"\"WITH cte AS (\n",
    "        SELECT * \n",
    "        FROM products AS p\n",
    "        JOIN assessment AS a\n",
    "        ON a.ASIN=p.ASIN)\n",
    "        SELECT DISTINCT title, review_count, product_type\n",
    "        FROM\n",
    "        (\n",
    "            SELECT cte.*, ROW_NUMBER() OVER (\n",
    "            PARTITION BY product_type ORDER BY review_count DESC) rnk\n",
    "            FROM cte)\n",
    "        WHERE rnk<=3\n",
    "        ORDER BY product_type, review_count DESC\n",
    "        \"\"\").fetchall()"
   ]
  },
  {
   "cell_type": "code",
   "execution_count": null,
   "metadata": {},
   "outputs": [],
   "source": [
    "# 3 best selling products in each category\n",
    "c.execute(\"\"\"WITH cte1 AS (\n",
    "        SELECT ASIN, SUM(Quantity) AS sold\n",
    "        FROM invoices AS i\n",
    "        GROUP BY ASIN),\n",
    "        cte2 AS (\n",
    "            SELECT p.product_type, cte1.ASIN, p.title,\n",
    "            RANK () OVER (PARTITION by product_type ORDER BY sold DESC) rnk\n",
    "            FROM cte1\n",
    "            LEFT JOIN products AS p\n",
    "            ON p.ASIN=cte1.ASIN)\n",
    "        SELECT * \n",
    "        FROM cte2\n",
    "        WHERE rnk BETWEEN 0 AND 3\n",
    "        \"\"\").fetchall()"
   ]
  },
  {
   "cell_type": "code",
   "execution_count": null,
   "metadata": {},
   "outputs": [],
   "source": [
    "# Get the first and second worst selling products in each category\n",
    "# Multiple items have sale quantity 1, so barring any other filters,\n",
    "# we can not select only 2 for each category\n",
    "c.execute(\"\"\"WITH cte1 AS (\n",
    "        SELECT ASIN, SUM(Quantity) AS sold\n",
    "        FROM invoices AS i\n",
    "        GROUP BY ASIN),\n",
    "        cte2 AS (\n",
    "            SELECT p.product_type, cte1.ASIN, p.title,\n",
    "            RANK () OVER (PARTITION by product_type ORDER BY sold) rnk\n",
    "            FROM cte1\n",
    "            LEFT JOIN products AS p\n",
    "            ON p.ASIN=cte1.ASIN)\n",
    "        SELECT * \n",
    "        FROM cte2\n",
    "        WHERE rnk BETWEEN 0 AND 2\n",
    "        ORDER BY product_type\n",
    "        \"\"\").fetchall()"
   ]
  },
  {
   "cell_type": "code",
   "execution_count": 46,
   "metadata": {},
   "outputs": [
    {
     "data": {
      "text/plain": [
       "[(741, '01'),\n",
       " (758, '02'),\n",
       " (974, '03'),\n",
       " (851, '04'),\n",
       " (1056, '05'),\n",
       " (991, '06'),\n",
       " (948, '07'),\n",
       " (934, '08'),\n",
       " (1263, '09'),\n",
       " (1363, '10'),\n",
       " (1664, '11'),\n",
       " (615, '12')]"
      ]
     },
     "execution_count": 46,
     "metadata": {},
     "output_type": "execute_result"
    }
   ],
   "source": [
    "# Find the unique customers per month\n",
    "c.execute(\"\"\"WITH cte AS\n",
    "                (SELECT DISTINCT CustomerID, \n",
    "                strftime(\"%m\",invoice_date) AS month\n",
    "                FROM invoices\n",
    "                WHERE strftime(\"%Y\",invoice_date)=\"2019\")\n",
    "        SELECT COUNT(c.CustomerID), month\n",
    "        FROM cte\n",
    "        JOIN Customers AS c\n",
    "        ON cte.CustomerID=c.CustomerID\n",
    "        GROUP BY month\n",
    "        \"\"\").fetchall()"
   ]
  },
  {
   "cell_type": "code",
   "execution_count": 48,
   "metadata": {},
   "outputs": [
    {
     "name": "stdout",
     "output_type": "stream",
     "text": [
      "<class 'pandas.core.frame.DataFrame'>\n",
      "Int64Index: 4339 entries, 0 to 552748\n",
      "Data columns (total 2 columns):\n",
      " #   Column      Non-Null Count  Dtype \n",
      "---  ------      --------------  ----- \n",
      " 0   CustomerID  4339 non-null   object\n",
      " 1   Country     4339 non-null   object\n",
      "dtypes: object(2)\n",
      "memory usage: 101.7+ KB\n"
     ]
    }
   ],
   "source": [
    "customers1.info()"
   ]
  }
 ],
 "metadata": {
  "kernelspec": {
   "display_name": "Python 3.9.7 ('base')",
   "language": "python",
   "name": "python3"
  },
  "language_info": {
   "codemirror_mode": {
    "name": "ipython",
    "version": 3
   },
   "file_extension": ".py",
   "mimetype": "text/x-python",
   "name": "python",
   "nbconvert_exporter": "python",
   "pygments_lexer": "ipython3",
   "version": "3.9.7"
  },
  "orig_nbformat": 4,
  "vscode": {
   "interpreter": {
    "hash": "34ab73eb2a201c4b750598ec4bd41f14c725bb809bc0c8207569acb80dee3ff5"
   }
  }
 },
 "nbformat": 4,
 "nbformat_minor": 2
}
